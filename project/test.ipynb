{
 "cells": [
  {
   "cell_type": "code",
   "execution_count": 1,
   "metadata": {},
   "outputs": [
    {
     "data": {
      "text/html": [
       "<pre style=\"white-space:pre;overflow-x:auto;line-height:normal;font-family:Menlo,'DejaVu Sans Mono',consolas,'Courier New',monospace\">Manim Community <span style=\"color: #008000; text-decoration-color: #008000\">v0.17.2</span>\n",
       "\n",
       "</pre>\n"
      ],
      "text/plain": [
       "Manim Community \u001b[32mv0.\u001b[0m\u001b[32m17.2\u001b[0m\n",
       "\n"
      ]
     },
     "metadata": {},
     "output_type": "display_data"
    }
   ],
   "source": [
    "from manim import *\n",
    "\n",
    "config.media_width = \"75%\"\n",
    "config.verbosity = \"WARNING\""
   ]
  },
  {
   "cell_type": "code",
   "execution_count": 19,
   "metadata": {},
   "outputs": [
    {
     "name": "stderr",
     "output_type": "stream",
     "text": [
      "                                                                                                   \r"
     ]
    },
    {
     "data": {
      "text/html": [
       "<video src=\"media/jupyter/ParetoFront@2023-04-09@09-28-10.mp4\" controls autoplay loop style=\"max-width: 75%;\"  >\n",
       "      Your browser does not support the <code>video</code> element.\n",
       "    </video>"
      ],
      "text/plain": [
       "<IPython.core.display.Video object>"
      ]
     },
     "metadata": {},
     "output_type": "display_data"
    }
   ],
   "source": [
    "%%manim -qm ParetoFront\n",
    "\n",
    "class ParetoFront(Scene):\n",
    "    def get_rectangle_corners(self, bottom_left, top_right):\n",
    "        return [\n",
    "            (top_right[0], top_right[1]),\n",
    "            (bottom_left[0], top_right[1]),\n",
    "            (bottom_left[0], bottom_left[1]),\n",
    "            (top_right[0], bottom_left[1]),\n",
    "        ]\n",
    "\n",
    "\n",
    "    def construct(self):\n",
    "        ax = Axes(\n",
    "            x_range=[0, 1, 0.1],\n",
    "            y_range=[0, 1, 0.1],\n",
    "            tips=False,\n",
    "            axis_config={\"include_numbers\": True},\n",
    "            # y_axis_config={\"scaling\": LogBase(custom_labels=True)},\n",
    "        )\n",
    "\n",
    "        labels = ax.get_axis_labels(\n",
    "            Text(\"Objective 1\").scale(0.5), Text(\"Objective 2\").scale(0.5)\n",
    "            )\n",
    "\n",
    "        tx = ValueTracker(0.2)\n",
    "        ty = ValueTracker(0.7)     \n",
    "\n",
    "        def get_table():\n",
    "            summary_table = Table(\n",
    "            [[str(round(tx.get_value(),1)), str(round(ty.get_value(),1))]\n",
    "            ],\n",
    "            col_labels=[Text(\"Objective 1\"), Text(\"Objective 2\")],\n",
    "            include_outer_lines=True,\n",
    "            )\n",
    "            summary_table.remove(*summary_table.get_vertical_lines()).scale(0.5).move_to(ax,RIGHT).align_to(ax,UP)\n",
    "            return summary_table\n",
    "        \n",
    "        summary_table = always_redraw(get_table)\n",
    "\n",
    "        def func(x):\n",
    "            return 1-x**2\n",
    "\n",
    "        pareto_front = ax.plot(func)\n",
    "        area = ax.get_area(pareto_front, [0, 1], color=GREY, opacity=0.5)\n",
    "\n",
    "        def get_rectangle():\n",
    "            polygon = Polygon(\n",
    "                *[\n",
    "                    ax.c2p(*i)\n",
    "                    for i in self.get_rectangle_corners(\n",
    "                        (0, 0), (tx.get_value(), ty.get_value())\n",
    "                    )\n",
    "                ]\n",
    "            )\n",
    "            polygon.stroke_width = 1\n",
    "            # polygon.set_fill(BLUE, opacity=0.5)\n",
    "            polygon.set_stroke(YELLOW_B)\n",
    "            return polygon\n",
    "\n",
    "        polygon = always_redraw(get_rectangle)\n",
    "\n",
    "        # initial_point = [ax.coords_to_point(tx.get_value(), ty.get_value())]\n",
    "        dot = Dot()\n",
    "        dot.add_updater(lambda x: x.move_to(ax.c2p(tx.get_value(), ty.get_value())))\n",
    "        dot.set_z_index(10)\n",
    "        # dot = Dot(point=initial_point, color=RED)  \n",
    "\n",
    "        area_text = Tex(\"Feasible region\")\n",
    "        dot_label = Tex(\"Not \", \"Pareto optimal\")\n",
    "        pareto_label = Text(\"Pareto frontier\")\n",
    "\n",
    "        x_space = np.linspace(ax.x_range[0],ax.x_range[-1],200)\n",
    "        y_space = np.array([func(xi) for xi in x_space])\n",
    "\n",
    "        self.add(ax, labels)\n",
    "        self.play(Create(area))\n",
    "        self.play(Create(area_text))\n",
    "        self.wait()\n",
    "        self.play(FadeOut(area_text), shift=DOWN)\n",
    "        self.play(Create(dot))\n",
    "        self.play(Create(polygon))\n",
    "        self.play(Create(dot_label))\n",
    "        self.play(FadeIn(summary_table), shift=RIGHT)\n",
    "        self.wait()\n",
    "        self.play(ty.animate.set_value(0.96),FadeOut(dot_label[0], shift=DOWN))\n",
    "        self.play(tx.animate.set_value(0.2),ty.animate.set_value(0.7),FadeIn(dot_label[0], shift=UP))\n",
    "        self.play(tx.animate.set_value(0.5477),FadeOut(dot_label[0], shift=DOWN))\n",
    "        self.play(FadeOut(dot_label[1],shift=DOWN))\n",
    "        self.wait()\n",
    "        pareto_front.set_color(YELLOW)\n",
    "        # self.play(tx.animate.set_value(x_space),ty.animate.set_value(y_space))\n",
    "        self.add(pareto_label)\n",
    "        self.play(Create(pareto_front),Circumscribe(pareto_label, color=YELLOW))\n",
    "        # self.play(tx.animate.set_value(x_space),ty.animate.set_value(y_space))\n",
    "        self.wait()\n",
    "        "
   ]
  }
 ],
 "metadata": {
  "kernelspec": {
   "display_name": "Python 3",
   "language": "python",
   "name": "python3"
  },
  "language_info": {
   "codemirror_mode": {
    "name": "ipython",
    "version": 3
   },
   "file_extension": ".py",
   "mimetype": "text/x-python",
   "name": "python",
   "nbconvert_exporter": "python",
   "pygments_lexer": "ipython3",
   "version": "3.11.2"
  },
  "orig_nbformat": 4
 },
 "nbformat": 4,
 "nbformat_minor": 2
}
