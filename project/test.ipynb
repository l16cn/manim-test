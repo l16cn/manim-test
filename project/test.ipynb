{
 "cells": [
  {
   "cell_type": "code",
   "execution_count": 1,
   "metadata": {},
   "outputs": [
    {
     "data": {
      "text/html": [
       "<pre style=\"white-space:pre;overflow-x:auto;line-height:normal;font-family:Menlo,'DejaVu Sans Mono',consolas,'Courier New',monospace\">Manim Community <span style=\"color: #008000; text-decoration-color: #008000\">v0.17.2</span>\n",
       "\n",
       "</pre>\n"
      ],
      "text/plain": [
       "Manim Community \u001b[32mv0.\u001b[0m\u001b[32m17.2\u001b[0m\n",
       "\n"
      ]
     },
     "metadata": {},
     "output_type": "display_data"
    }
   ],
   "source": [
    "from manim import *\n",
    "\n",
    "config.media_width = \"75%\"\n",
    "config.verbosity = \"WARNING\""
   ]
  },
  {
   "cell_type": "code",
   "execution_count": 48,
   "metadata": {},
   "outputs": [
    {
     "ename": "TypeError",
     "evalue": "Mobject.__getattr__.<locals>.getter() takes 1 positional argument but 2 were given",
     "output_type": "error",
     "traceback": [
      "\u001b[0;31m---------------------------------------------------------------------------\u001b[0m",
      "\u001b[0;31mTypeError\u001b[0m                                 Traceback (most recent call last)",
      "Cell \u001b[0;32mIn[48], line 1\u001b[0m\n\u001b[0;32m----> 1\u001b[0m get_ipython()\u001b[39m.\u001b[39;49mrun_cell_magic(\u001b[39m'\u001b[39;49m\u001b[39mmanim\u001b[39;49m\u001b[39m'\u001b[39;49m, \u001b[39m'\u001b[39;49m\u001b[39m-qm LogScalingExample\u001b[39;49m\u001b[39m'\u001b[39;49m, \u001b[39m'\u001b[39;49m\u001b[39m\\n\u001b[39;49;00m\u001b[39mclass LogScalingExample(Scene):\u001b[39;49m\u001b[39m\\n\u001b[39;49;00m\u001b[39m    def construct(self):\u001b[39;49m\u001b[39m\\n\u001b[39;49;00m\u001b[39m        ax = Axes(\u001b[39;49m\u001b[39m\\n\u001b[39;49;00m\u001b[39m            x_range=[0, 1, 0.1],\u001b[39;49m\u001b[39m\\n\u001b[39;49;00m\u001b[39m            y_range=[0, 1, 0.1],\u001b[39;49m\u001b[39m\\n\u001b[39;49;00m\u001b[39m            tips=False,\u001b[39;49m\u001b[39m\\n\u001b[39;49;00m\u001b[39m            axis_config=\u001b[39;49m\u001b[39m{\u001b[39;49m\u001b[39m\"\u001b[39;49m\u001b[39minclude_numbers\u001b[39;49m\u001b[39m\"\u001b[39;49m\u001b[39m: True},\u001b[39;49m\u001b[39m\\n\u001b[39;49;00m\u001b[39m            # y_axis_config=\u001b[39;49m\u001b[39m{\u001b[39;49m\u001b[39m\"\u001b[39;49m\u001b[39mscaling\u001b[39;49m\u001b[39m\"\u001b[39;49m\u001b[39m: LogBase(custom_labels=True)},\u001b[39;49m\u001b[39m\\n\u001b[39;49;00m\u001b[39m        )\u001b[39;49m\u001b[39m\\n\u001b[39;49;00m\u001b[39m\\n\u001b[39;49;00m\u001b[39m        labels = ax.get_axis_labels(\u001b[39;49m\u001b[39m\\n\u001b[39;49;00m\u001b[39m            Text(\u001b[39;49m\u001b[39m\"\u001b[39;49m\u001b[39mObjective 1\u001b[39;49m\u001b[39m\"\u001b[39;49m\u001b[39m).scale(0.5), Text(\u001b[39;49m\u001b[39m\"\u001b[39;49m\u001b[39mObjective 2\u001b[39;49m\u001b[39m\"\u001b[39;49m\u001b[39m).scale(0.5)\u001b[39;49m\u001b[39m\\n\u001b[39;49;00m\u001b[39m            )\u001b[39;49m\u001b[39m\\n\u001b[39;49;00m\u001b[39m\\n\u001b[39;49;00m\u001b[39m        t3 = Table(\u001b[39;49m\u001b[39m\\n\u001b[39;49;00m\u001b[39m            [[\u001b[39;49m\u001b[39m\"\u001b[39;49m\u001b[39m0.2\u001b[39;49m\u001b[39m\"\u001b[39;49m\u001b[39m, \u001b[39;49m\u001b[39m\"\u001b[39;49m\u001b[39m0.7\u001b[39;49m\u001b[39m\"\u001b[39;49m\u001b[39m]\u001b[39;49m\u001b[39m\\n\u001b[39;49;00m\u001b[39m            ],\u001b[39;49m\u001b[39m\\n\u001b[39;49;00m\u001b[39m            # row_labels=[Text(\u001b[39;49m\u001b[39m\"\u001b[39;49m\u001b[39mR1\u001b[39;49m\u001b[39m\"\u001b[39;49m\u001b[39m), Text(\u001b[39;49m\u001b[39m\"\u001b[39;49m\u001b[39mR2\u001b[39;49m\u001b[39m\"\u001b[39;49m\u001b[39m)],\u001b[39;49m\u001b[39m\\n\u001b[39;49;00m\u001b[39m            col_labels=[Text(\u001b[39;49m\u001b[39m\"\u001b[39;49m\u001b[39mObjective 1\u001b[39;49m\u001b[39m\"\u001b[39;49m\u001b[39m), Text(\u001b[39;49m\u001b[39m\"\u001b[39;49m\u001b[39mObjective 2\u001b[39;49m\u001b[39m\"\u001b[39;49m\u001b[39m)],\u001b[39;49m\u001b[39m\\n\u001b[39;49;00m\u001b[39m            # top_left_entry=Star().scale(0.3),\u001b[39;49m\u001b[39m\\n\u001b[39;49;00m\u001b[39m            include_outer_lines=True,\u001b[39;49m\u001b[39m\\n\u001b[39;49;00m\u001b[39m            # line_config=\u001b[39;49m\u001b[39m{\u001b[39;49m\u001b[39m\"\u001b[39;49m\u001b[39mstroke_width\u001b[39;49m\u001b[39m\"\u001b[39;49m\u001b[39m: 1, \u001b[39;49m\u001b[39m\"\u001b[39;49m\u001b[39mcolor\u001b[39;49m\u001b[39m\"\u001b[39;49m\u001b[39m: YELLOW}\u001b[39;49m\u001b[39m\\n\u001b[39;49;00m\u001b[39m            )\u001b[39;49m\u001b[39m\\n\u001b[39;49;00m\u001b[39m        t3.remove(*t3.get_vertical_lines()).scale(0.5).move_to(ax,RIGHT).align_to(ax,UP)\u001b[39;49m\u001b[39m\\n\u001b[39;49;00m\u001b[39m\\n\u001b[39;49;00m\u001b[39m        pareto_front = ax.plot(lambda x: 1-x**2)\u001b[39;49m\u001b[39m\\n\u001b[39;49;00m\u001b[39m        area = ax.get_area(pareto_front, [0, 1], color=GREY, opacity=0.5)\u001b[39;49m\u001b[39m\\n\u001b[39;49;00m\u001b[39m\\n\u001b[39;49;00m\u001b[39m        initial_point = [ax.coords_to_point(0.2, 0.7)]\u001b[39;49m\u001b[39m\\n\u001b[39;49;00m\u001b[39m        dot = Dot(point=initial_point, color=RED)\u001b[39;49m\u001b[39m\\n\u001b[39;49;00m\u001b[39m        line = ax.get_line_to_point(initial_point)\u001b[39;49m\u001b[39m\\n\u001b[39;49;00m\u001b[39m\\n\u001b[39;49;00m\u001b[39m        # x_min must be > 0 because log is undefined at 0.\u001b[39;49m\u001b[39m\\n\u001b[39;49;00m\u001b[39m        # graph = ax.plot(lambda x: x ** 2, x_range=[0.001, 10], use_smoothing=False)\u001b[39;49m\u001b[39m\\n\u001b[39;49;00m\u001b[39m        self.add(ax, labels, pareto_front, area, t3, line, dot)\u001b[39;49m\u001b[39m\\n\u001b[39;49;00m\u001b[39m'\u001b[39;49m)\n",
      "File \u001b[0;32m~/Library/Python/3.11/lib/python/site-packages/IPython/core/interactiveshell.py:2475\u001b[0m, in \u001b[0;36mInteractiveShell.run_cell_magic\u001b[0;34m(self, magic_name, line, cell)\u001b[0m\n\u001b[1;32m   2473\u001b[0m \u001b[39mwith\u001b[39;00m \u001b[39mself\u001b[39m\u001b[39m.\u001b[39mbuiltin_trap:\n\u001b[1;32m   2474\u001b[0m     args \u001b[39m=\u001b[39m (magic_arg_s, cell)\n\u001b[0;32m-> 2475\u001b[0m     result \u001b[39m=\u001b[39m fn(\u001b[39m*\u001b[39;49margs, \u001b[39m*\u001b[39;49m\u001b[39m*\u001b[39;49mkwargs)\n\u001b[1;32m   2477\u001b[0m \u001b[39m# The code below prevents the output from being displayed\u001b[39;00m\n\u001b[1;32m   2478\u001b[0m \u001b[39m# when using magics with decodator @output_can_be_silenced\u001b[39;00m\n\u001b[1;32m   2479\u001b[0m \u001b[39m# when the last Python token in the expression is a ';'.\u001b[39;00m\n\u001b[1;32m   2480\u001b[0m \u001b[39mif\u001b[39;00m \u001b[39mgetattr\u001b[39m(fn, magic\u001b[39m.\u001b[39mMAGIC_OUTPUT_CAN_BE_SILENCED, \u001b[39mFalse\u001b[39;00m):\n",
      "File \u001b[0;32m/Library/Frameworks/Python.framework/Versions/3.11/lib/python3.11/site-packages/manim/utils/ipython_magic.py:141\u001b[0m, in \u001b[0;36mManimMagic.manim\u001b[0;34m(self, line, cell, local_ns)\u001b[0m\n\u001b[1;32m    139\u001b[0m     SceneClass \u001b[39m=\u001b[39m local_ns[config[\u001b[39m\"\u001b[39m\u001b[39mscene_names\u001b[39m\u001b[39m\"\u001b[39m][\u001b[39m0\u001b[39m]]\n\u001b[1;32m    140\u001b[0m     scene \u001b[39m=\u001b[39m SceneClass(renderer\u001b[39m=\u001b[39mrenderer)\n\u001b[0;32m--> 141\u001b[0m     scene\u001b[39m.\u001b[39;49mrender()\n\u001b[1;32m    142\u001b[0m \u001b[39mfinally\u001b[39;00m:\n\u001b[1;32m    143\u001b[0m     \u001b[39m# Shader cache becomes invalid as the context is destroyed\u001b[39;00m\n\u001b[1;32m    144\u001b[0m     shader_program_cache\u001b[39m.\u001b[39mclear()\n",
      "File \u001b[0;32m/Library/Frameworks/Python.framework/Versions/3.11/lib/python3.11/site-packages/manim/scene/scene.py:223\u001b[0m, in \u001b[0;36mScene.render\u001b[0;34m(self, preview)\u001b[0m\n\u001b[1;32m    221\u001b[0m \u001b[39mself\u001b[39m\u001b[39m.\u001b[39msetup()\n\u001b[1;32m    222\u001b[0m \u001b[39mtry\u001b[39;00m:\n\u001b[0;32m--> 223\u001b[0m     \u001b[39mself\u001b[39;49m\u001b[39m.\u001b[39;49mconstruct()\n\u001b[1;32m    224\u001b[0m \u001b[39mexcept\u001b[39;00m EndSceneEarlyException:\n\u001b[1;32m    225\u001b[0m     \u001b[39mpass\u001b[39;00m\n",
      "File \u001b[0;32m<string>:32\u001b[0m, in \u001b[0;36mconstruct\u001b[0;34m(self)\u001b[0m\n",
      "\u001b[0;31mTypeError\u001b[0m: Mobject.__getattr__.<locals>.getter() takes 1 positional argument but 2 were given"
     ]
    }
   ],
   "source": [
    "%%manim -qm LogScalingExample\n",
    "\n",
    "class LogScalingExample(Scene):\n",
    "    def construct(self):\n",
    "        ax = Axes(\n",
    "            x_range=[0, 1, 0.1],\n",
    "            y_range=[0, 1, 0.1],\n",
    "            tips=False,\n",
    "            axis_config={\"include_numbers\": True},\n",
    "            # y_axis_config={\"scaling\": LogBase(custom_labels=True)},\n",
    "        )\n",
    "\n",
    "        labels = ax.get_axis_labels(\n",
    "            Text(\"Objective 1\").scale(0.5), Text(\"Objective 2\").scale(0.5)\n",
    "            )\n",
    "\n",
    "        t3 = Table(\n",
    "            [[\"0.2\", \"0.7\"]\n",
    "            ],\n",
    "            # row_labels=[Text(\"R1\"), Text(\"R2\")],\n",
    "            col_labels=[Text(\"Objective 1\"), Text(\"Objective 2\")],\n",
    "            # top_left_entry=Star().scale(0.3),\n",
    "            include_outer_lines=True,\n",
    "            # line_config={\"stroke_width\": 1, \"color\": YELLOW}\n",
    "            )\n",
    "        t3.remove(*t3.get_vertical_lines()).scale(0.5).move_to(ax,RIGHT).align_to(ax,UP)\n",
    "\n",
    "        pareto_front = ax.plot(lambda x: 1-x**2)\n",
    "        area = ax.get_area(pareto_front, [0, 1], color=GREY, opacity=0.5)\n",
    "\n",
    "        initial_point = [ax.coords_to_point(0.2, 0.7)]\n",
    "        dot = Dot(point=initial_point, color=RED)\n",
    "        # line = ax.get_line_to_point(initial_point)\n",
    "\n",
    "        # x_min must be > 0 because log is undefined at 0.\n",
    "        # graph = ax.plot(lambda x: x ** 2, x_range=[0.001, 10], use_smoothing=False)\n",
    "        self.add(ax, labels, pareto_front, area, t3, dot)"
   ]
  }
 ],
 "metadata": {
  "kernelspec": {
   "display_name": "Python 3",
   "language": "python",
   "name": "python3"
  },
  "language_info": {
   "codemirror_mode": {
    "name": "ipython",
    "version": 3
   },
   "file_extension": ".py",
   "mimetype": "text/x-python",
   "name": "python",
   "nbconvert_exporter": "python",
   "pygments_lexer": "ipython3",
   "version": "3.11.2"
  },
  "orig_nbformat": 4
 },
 "nbformat": 4,
 "nbformat_minor": 2
}
